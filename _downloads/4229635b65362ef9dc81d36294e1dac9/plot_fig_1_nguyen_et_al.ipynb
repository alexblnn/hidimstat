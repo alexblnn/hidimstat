{
  "cells": [
    {
      "cell_type": "code",
      "execution_count": null,
      "metadata": {
        "collapsed": false
      },
      "outputs": [],
      "source": [
        "%matplotlib inline"
      ]
    },
    {
      "cell_type": "markdown",
      "metadata": {},
      "source": [
        "\n# Histogram of KO vs AKO performance\n\nExample: reproducing Figure 1 in::\n\n    Nguyen et al. (2020) Aggregation of Multiple Knockoffs\n    https://arxiv.org/abs/2002.09269\n\nTo reduce the script runtime it is desirable to increase n_jobs parameter.\n"
      ]
    },
    {
      "cell_type": "code",
      "execution_count": null,
      "metadata": {
        "collapsed": false
      },
      "outputs": [],
      "source": [
        "import matplotlib.pyplot as plt\nimport numpy as np\nfrom hidimstat.knockoffs import knockoff_aggregation, model_x_knockoff\nfrom hidimstat.knockoffs.data_simulation import simu_data\nfrom hidimstat.knockoffs.utils import cal_fdp_power\nfrom joblib import Parallel, delayed\nfrom sklearn.preprocessing import StandardScaler\n\ncolor_blue = '#1f77b4'\ncolor_teal = '#1fbecf'\n\n\ndef one_inference(n, p, snr, rho, sparsity, n_bootstraps=25, gamma=0.3,\n                  n_jobs=1, offset=1, fdr=0.1, seed=None):\n\n    # Simulate data following autoregressive structure, seed is fixed to ensure\n    # doing inference on only 1 simulation\n    X, y, _, non_zero_index = simu_data(n=n, p=p, rho=rho, snr=snr,\n                                        sparsity=sparsity, seed=42)\n    X = StandardScaler().fit_transform(X)\n\n    # Single knockoff -- has to do it 25 times to match the number of\n    # bootstraps in AKO for fair comparison\n    ko_fdps = []\n    ko_powers = []\n\n    for i in range(n_bootstraps):\n        ko_selected = model_x_knockoff(X, y, fdr=fdr, offset=offset,\n                                       n_jobs=n_jobs, seed=n_bootstraps*seed)\n        ko_fdp, ko_power = cal_fdp_power(ko_selected, non_zero_index)\n        ko_fdps.append(ko_fdp)\n        ko_powers.append(ko_power)\n\n    # Aggregated knockoff\n    ako_selected = knockoff_aggregation(X, y, fdr=fdr, offset=offset,\n                                        n_jobs=n_jobs, gamma=gamma,\n                                        n_bootstraps=n_bootstraps,\n                                        random_state=seed*2)\n\n    ako_fdp, ako_power = cal_fdp_power(ako_selected, non_zero_index)\n\n    return ko_fdps, ako_fdp, ko_powers, ako_power\n\n\ndef plot(results, n_simu, fdr):\n\n    ko_fdps = np.array([results[i][0] for i in range(n_simu)]).ravel()\n    ako_fdps = np.array([results[i][1] for i in range(n_simu)]).ravel()\n    ko_powers = np.array([results[i][2] for i in range(n_simu)]).ravel()\n    ako_powers = np.array([results[i][3] for i in range(n_simu)]).ravel()\n\n    # Plotting\n    n_bins = 30\n    fig, ((ax1, ax2), (ax3, ax4)) = plt.subplots(2, 2, figsize=(7, 4))\n    ax1.tick_params(labelsize=14)\n    ax1.hist(ko_fdps, edgecolor='k',\n             range=[0.0, 1.0], bins=n_bins, color=color_blue)\n    ax1.axvline(x=fdr, linestyle='--', color='r', linewidth=1.0)\n    ax2.tick_params(labelsize=14)\n    ax2.hist(ko_powers, edgecolor='k',\n             range=[0.0, 1.0], bins=n_bins, color=color_blue)\n    ax3.tick_params(labelsize=14)\n    ax3.hist(ako_fdps, edgecolor='k',\n             range=[0.0, 1.0], bins=n_bins, color=color_teal)\n    ax3.axvline(x=fdr, linestyle='--', color='r', linewidth=1.0)\n    ax4.tick_params(labelsize=14)\n    ax4.hist(ako_powers, edgecolor='k',\n             range=[0.0, 1.0], bins=n_bins, color=color_teal)\n    plt.tight_layout()\n\n    figname = 'figures/histogram_ko_vs_ako.png'\n    plt.savefig(figname)\n    print(f'Save figure to {figname}')\n\n\ndef main():\n    # Simulation paramaters\n    n, p = 50, 200\n    snr = 3.0\n    rho = 0.5\n    sparsity = 0.06\n    offset = 1\n    fdr = 0.05\n    gamma = 0.3\n    n_bootstraps = 10\n    n_simu = 10\n    offset = 1\n\n    results = Parallel(n_jobs=1)(\n        delayed(one_inference)(\n            n=n, p=p, snr=snr, rho=rho, sparsity=sparsity,\n            n_jobs=1, n_bootstraps=n_bootstraps, fdr=fdr,\n            offset=offset, gamma=gamma, seed=seed)\n        for seed in range(n_simu))\n\n    # Plotting\n    plot(results, n_simu, fdr)\n    print('Done!')\n\n\nif __name__ == '__main__':\n    main()"
      ]
    }
  ],
  "metadata": {
    "kernelspec": {
      "display_name": "Python 3",
      "language": "python",
      "name": "python3"
    },
    "language_info": {
      "codemirror_mode": {
        "name": "ipython",
        "version": 3
      },
      "file_extension": ".py",
      "mimetype": "text/x-python",
      "name": "python",
      "nbconvert_exporter": "python",
      "pygments_lexer": "ipython3",
      "version": "3.8.10"
    }
  },
  "nbformat": 4,
  "nbformat_minor": 0
}